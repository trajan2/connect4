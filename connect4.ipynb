{
 "cells": [
  {
   "cell_type": "code",
   "execution_count": 47,
   "metadata": {
    "collapsed": true
   },
   "outputs": [
    {
     "name": "stdout",
     "output_type": "stream",
     "text": [
      "True\n[[0 0 0 0 0]\n [0 0 0 0 0]\n [0 0 0 0 0]\n [0 0 0 0 0]]\n"
     ]
    }
   ],
   "source": [
    "import numpy as np\n",
    "class connect4:\n",
    "\n",
    "    def __init__(self, width, height, onMove=1):\n",
    "        self.width = width\n",
    "        self.height = height\n",
    "        self.onMove = onMove\n",
    "        self.field = np.zeros((height, width), dtype=np.int32) # 0: empty, 1,2: player 1,2\n",
    "                                                               # heighest row is 0\n",
    "\n",
    "    def play(self, col):\n",
    "        assert self.field[0,col] == 0, \"col \" + str(col) + \" already full\"\n",
    "        for h in range(self.height-1, -1, -1):\n",
    "            if self.field[h, col] == 0:\n",
    "                self.field[h,col] = self.onMove\n",
    "                break\n",
    "        self.onMove = 3-self.onMove\n",
    "        self.checkWinner((h, col))\n",
    "\n",
    "    def show(self):\n",
    "        return self.field\n",
    "    \n",
    "    def reset(self):\n",
    "        self.field = np.zeros((self.height, self.width), dtype=np.int32)\n",
    "        \n",
    "    def checkWinner(self, position):\n",
    "        directions = [(1,0), (1,1), (0,1), (-1, 1)]\n",
    "        for d in directions:\n",
    "            counter = 1\n",
    "            cur_pos = self.mapping(position,d)\n",
    "            while cur_pos is not None and self.field[cur_pos] == self.field[position]:\n",
    "                cur_pos = self.mapping(cur_pos, d)\n",
    "                counter += 1\n",
    "\n",
    "            d_ = tuple((i*-1 for i in d))\n",
    "            cur_pos = self.mapping(position,d_)\n",
    "            while cur_pos is not None and self.field[cur_pos] == self.field[position]:\n",
    "                cur_pos = self.mapping(cur_pos, d_)\n",
    "                counter += 1\n",
    "\n",
    "            if counter >= 4:\n",
    "                return True\n",
    "        return False\n",
    "\n",
    "\n",
    "    def mapping(self, position, move):\n",
    "        new_pos =  position[0] + move[0], position[1] + move[1]\n",
    "        if new_pos[0] < 0 or new_pos[1] < 0 or new_pos[0] >= self.height or new_pos[1] >= self.width:\n",
    "            return None\n",
    "        else:\n",
    "            return new_pos\n",
    "c4 = connect4(5,4)\n",
    "\n",
    "print(c4.checkWinner((0,2)))\n",
    "print(c4.show())"
   ]
  },
  {
   "cell_type": "code",
   "execution_count": 64,
   "metadata": {},
   "outputs": [],
   "source": [
    "import numpy as np\n",
    "import keras\n",
    "import main\n",
    "from keras.layers.core import Dense\n",
    "\n",
    "\n",
    "class network:\n",
    "    def __init__(self, height,  width, hiddens=(20, 20)):\n",
    "        self.model = keras.models.Sequential()\n",
    "        self.in_dim = width * height + width\n",
    "        self.hiddens = hiddens\n",
    "        self.model.add(Dense(hiddens[0], input_dim=self.in_dim)) #input_shape=(self.in_dim,), activation=\"sigmoid\"))\n",
    "        for i in range(1,len(hiddens)):\n",
    "            self.model.add(Dense(hiddens[i], activation=\"sigmoid\"))\n",
    "        self.model.add(Dense(1, activation=\"sigmoid\"))\n",
    "        self.model.compile(loss=\"mse\", metrics=[\"accuracy\"], optimizer=\"rmsprop\")\n",
    "\n",
    "    def eval(self, c4: main.connect4, col):\n",
    "        input = self.formatInput(c4, col)\n",
    "        output = self.model.predict(input)\n",
    "        return output\n",
    "\n",
    "\n",
    "    def train(self, c4):\n",
    "        pass\n",
    "    \n",
    "    def formatInput(self, c4: main.connect4, col: int):\n",
    "        field = np.copy(c4.field)\n",
    "        one_hot = np.zeros((1, c4.width))\n",
    "        one_hot[0,col] = 1\n",
    "        reshaped = np.reshape(field, (1, -1))\n",
    "        formatted = np.stack((reshaped, one_hot), axis=1)\n",
    "        return formatted"
   ]
  },
  {
   "cell_type": "code",
   "execution_count": 65,
   "metadata": {},
   "outputs": [],
   "source": [
    "network = network(c4.height, c4.width)"
   ]
  },
  {
   "cell_type": "code",
   "execution_count": 66,
   "metadata": {},
   "outputs": [
    {
     "name": "stdout",
     "output_type": "stream",
     "text": [
      "1\n1\n[[0 0 0 0 0]\n [0 0 0 0 0]\n [2 2 2 0 0]\n [1 1 1 1 0]]\n"
     ]
    },
    {
     "ename": "ValueError",
     "evalue": "all input arrays must have the same shape",
     "traceback": [
      "\u001b[0;31m---------------------------------------------------------------------------\u001b[0m",
      "\u001b[0;31mValueError\u001b[0m                                Traceback (most recent call last)",
      "\u001b[0;32m<ipython-input-66-b7fc86cc0593>\u001b[0m in \u001b[0;36m<module>\u001b[0;34m()\u001b[0m\n\u001b[1;32m     14\u001b[0m \u001b[0;31m#                      [1,0,0,0,0]])\u001b[0m\u001b[0;34m\u001b[0m\u001b[0;34m\u001b[0m\u001b[0m\n\u001b[1;32m     15\u001b[0m \u001b[0mprint\u001b[0m\u001b[0;34m(\u001b[0m\u001b[0mc4\u001b[0m\u001b[0;34m.\u001b[0m\u001b[0mshow\u001b[0m\u001b[0;34m(\u001b[0m\u001b[0;34m)\u001b[0m\u001b[0;34m)\u001b[0m\u001b[0;34m\u001b[0m\u001b[0m\n\u001b[0;32m---> 16\u001b[0;31m \u001b[0mprint\u001b[0m\u001b[0;34m(\u001b[0m\u001b[0mnetwork\u001b[0m\u001b[0;34m.\u001b[0m\u001b[0mformatInput\u001b[0m\u001b[0;34m(\u001b[0m\u001b[0mc4\u001b[0m\u001b[0;34m,\u001b[0m\u001b[0;36m1\u001b[0m\u001b[0;34m)\u001b[0m\u001b[0;34m)\u001b[0m\u001b[0;34m\u001b[0m\u001b[0m\n\u001b[0m",
      "\u001b[0;32m<ipython-input-64-116a2c832a2c>\u001b[0m in \u001b[0;36mformatInput\u001b[0;34m(self, c4, col)\u001b[0m\n\u001b[1;32m     30\u001b[0m         \u001b[0mone_hot\u001b[0m\u001b[0;34m[\u001b[0m\u001b[0;36m0\u001b[0m\u001b[0;34m,\u001b[0m\u001b[0mcol\u001b[0m\u001b[0;34m]\u001b[0m \u001b[0;34m=\u001b[0m \u001b[0;36m1\u001b[0m\u001b[0;34m\u001b[0m\u001b[0m\n\u001b[1;32m     31\u001b[0m \u001b[0;34m\u001b[0m\u001b[0m\n\u001b[0;32m---> 32\u001b[0;31m         \u001b[0mformatted\u001b[0m \u001b[0;34m=\u001b[0m \u001b[0mnp\u001b[0m\u001b[0;34m.\u001b[0m\u001b[0mstack\u001b[0m\u001b[0;34m(\u001b[0m\u001b[0;34m(\u001b[0m\u001b[0mnp\u001b[0m\u001b[0;34m.\u001b[0m\u001b[0mreshape\u001b[0m\u001b[0;34m(\u001b[0m\u001b[0mfield\u001b[0m\u001b[0;34m,\u001b[0m \u001b[0;34m(\u001b[0m\u001b[0;36m1\u001b[0m\u001b[0;34m,\u001b[0m \u001b[0;34m-\u001b[0m\u001b[0;36m1\u001b[0m\u001b[0;34m)\u001b[0m\u001b[0;34m)\u001b[0m\u001b[0;34m,\u001b[0m \u001b[0mone_hot\u001b[0m\u001b[0;34m)\u001b[0m\u001b[0;34m,\u001b[0m \u001b[0maxis\u001b[0m\u001b[0;34m=\u001b[0m\u001b[0;36m1\u001b[0m\u001b[0;34m)\u001b[0m\u001b[0;34m\u001b[0m\u001b[0m\n\u001b[0m\u001b[1;32m     33\u001b[0m         \u001b[0;32mreturn\u001b[0m \u001b[0mformatted\u001b[0m\u001b[0;34m\u001b[0m\u001b[0m\n",
      "\u001b[0;32m~/virtualenv/python3Keras/lib/python3.5/site-packages/numpy/core/shape_base.py\u001b[0m in \u001b[0;36mstack\u001b[0;34m(arrays, axis)\u001b[0m\n\u001b[1;32m    352\u001b[0m     \u001b[0mshapes\u001b[0m \u001b[0;34m=\u001b[0m \u001b[0mset\u001b[0m\u001b[0;34m(\u001b[0m\u001b[0marr\u001b[0m\u001b[0;34m.\u001b[0m\u001b[0mshape\u001b[0m \u001b[0;32mfor\u001b[0m \u001b[0marr\u001b[0m \u001b[0;32min\u001b[0m \u001b[0marrays\u001b[0m\u001b[0;34m)\u001b[0m\u001b[0;34m\u001b[0m\u001b[0m\n\u001b[1;32m    353\u001b[0m     \u001b[0;32mif\u001b[0m \u001b[0mlen\u001b[0m\u001b[0;34m(\u001b[0m\u001b[0mshapes\u001b[0m\u001b[0;34m)\u001b[0m \u001b[0;34m!=\u001b[0m \u001b[0;36m1\u001b[0m\u001b[0;34m:\u001b[0m\u001b[0;34m\u001b[0m\u001b[0m\n\u001b[0;32m--> 354\u001b[0;31m         \u001b[0;32mraise\u001b[0m \u001b[0mValueError\u001b[0m\u001b[0;34m(\u001b[0m\u001b[0;34m'all input arrays must have the same shape'\u001b[0m\u001b[0;34m)\u001b[0m\u001b[0;34m\u001b[0m\u001b[0m\n\u001b[0m\u001b[1;32m    355\u001b[0m \u001b[0;34m\u001b[0m\u001b[0m\n\u001b[1;32m    356\u001b[0m     \u001b[0mresult_ndim\u001b[0m \u001b[0;34m=\u001b[0m \u001b[0marrays\u001b[0m\u001b[0;34m[\u001b[0m\u001b[0;36m0\u001b[0m\u001b[0;34m]\u001b[0m\u001b[0;34m.\u001b[0m\u001b[0mndim\u001b[0m \u001b[0;34m+\u001b[0m \u001b[0;36m1\u001b[0m\u001b[0;34m\u001b[0m\u001b[0m\n",
      "\u001b[0;31mValueError\u001b[0m: all input arrays must have the same shape"
     ],
     "output_type": "error"
    }
   ],
   "source": [
    "print(c4.onMove)\n",
    "c4.reset()\n",
    "print(c4.onMove)\n",
    "c4.play(0)\n",
    "c4.play(0)\n",
    "c4.play(1)\n",
    "c4.play(1)\n",
    "c4.play(2)\n",
    "c4.play(2)\n",
    "c4.play(3)\n",
    "# c4.field = np.array([[0,0,0,1,0],\n",
    "#                      [0,0,1,0,0],\n",
    "#                      [0,1,0,0,0],\n",
    "#                      [1,0,0,0,0]])\n",
    "print(c4.show())\n",
    "print(network.formatInput(c4,1))"
   ]
  }
 ],
 "metadata": {
  "kernelspec": {
   "display_name": "Python 2",
   "language": "python",
   "name": "python2"
  },
  "language_info": {
   "codemirror_mode": {
    "name": "ipython",
    "version": 2.0
   },
   "file_extension": ".py",
   "mimetype": "text/x-python",
   "name": "python",
   "nbconvert_exporter": "python",
   "pygments_lexer": "ipython2",
   "version": "2.7.6"
  }
 },
 "nbformat": 4,
 "nbformat_minor": 0
}